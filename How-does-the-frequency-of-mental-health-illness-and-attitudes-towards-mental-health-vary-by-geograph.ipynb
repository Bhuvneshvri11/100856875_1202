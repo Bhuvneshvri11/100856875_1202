{
 "cells": [
  {
   "cell_type": "code",
   "execution_count": 1,
   "id": "4578e81e",
   "metadata": {},
   "outputs": [],
   "source": [
    "#How-does-the-frequency-of-mental-health-illness-and-attitudes-towards-mental-health-vary-by-geograph? \n",
    "\n",
    "#this is the issue we will be answering in this assignment"
   ]
  },
  {
   "cell_type": "code",
   "execution_count": 2,
   "id": "94120ac9",
   "metadata": {},
   "outputs": [],
   "source": [
    "#we need to kick off by first importing the necessary libraries needed to do this\n",
    "#we will import these libraries in the following ways as shown below"
   ]
  },
  {
   "cell_type": "code",
   "execution_count": 3,
   "id": "6dad3ec6",
   "metadata": {},
   "outputs": [],
   "source": [
    "import pandas as pd #the library which will help us import the excel file\n",
    "import numpy as np #the library for Numerical Python\n",
    "import scipy #It provides more utility functions for optimization, stats and signal processing.\n",
    "import matplotlib.pyplot as plt #the library to help us in plotting the data, visual design"
   ]
  },
  {
   "cell_type": "code",
   "execution_count": 4,
   "id": "85fe8673",
   "metadata": {},
   "outputs": [],
   "source": [
    "#we use the pandas to import the dataset\n",
    "dataframe=pd.read_csv(r'~/Desktop/all the analysis/survey.csv')"
   ]
  },
  {
   "cell_type": "code",
   "execution_count": 5,
   "id": "4f89ae2a",
   "metadata": {},
   "outputs": [
    {
     "data": {
      "text/html": [
       "<div>\n",
       "<style scoped>\n",
       "    .dataframe tbody tr th:only-of-type {\n",
       "        vertical-align: middle;\n",
       "    }\n",
       "\n",
       "    .dataframe tbody tr th {\n",
       "        vertical-align: top;\n",
       "    }\n",
       "\n",
       "    .dataframe thead th {\n",
       "        text-align: right;\n",
       "    }\n",
       "</style>\n",
       "<table border=\"1\" class=\"dataframe\">\n",
       "  <thead>\n",
       "    <tr style=\"text-align: right;\">\n",
       "      <th></th>\n",
       "      <th>Age</th>\n",
       "      <th>Gender</th>\n",
       "      <th>Country</th>\n",
       "      <th>state</th>\n",
       "      <th>self_employed</th>\n",
       "      <th>Fam_hist</th>\n",
       "      <th>family_history</th>\n",
       "      <th>treat</th>\n",
       "      <th>treatment</th>\n",
       "      <th>work_interfere</th>\n",
       "      <th>...</th>\n",
       "      <th>phys_health_consequence</th>\n",
       "      <th>coworkers</th>\n",
       "      <th>supervisor</th>\n",
       "      <th>Mental_h_interview</th>\n",
       "      <th>mental_health_interview</th>\n",
       "      <th>phys_health_interview</th>\n",
       "      <th>MentalvsPhysical</th>\n",
       "      <th>mental_vs_physical</th>\n",
       "      <th>obs_consequence</th>\n",
       "      <th>comments</th>\n",
       "    </tr>\n",
       "  </thead>\n",
       "  <tbody>\n",
       "    <tr>\n",
       "      <th>0</th>\n",
       "      <td>37</td>\n",
       "      <td>Female</td>\n",
       "      <td>United States</td>\n",
       "      <td>IL</td>\n",
       "      <td>NaN</td>\n",
       "      <td>0</td>\n",
       "      <td>No</td>\n",
       "      <td>1</td>\n",
       "      <td>Yes</td>\n",
       "      <td>Often</td>\n",
       "      <td>...</td>\n",
       "      <td>No</td>\n",
       "      <td>Some of them</td>\n",
       "      <td>Yes</td>\n",
       "      <td>0</td>\n",
       "      <td>No</td>\n",
       "      <td>Maybe</td>\n",
       "      <td>2</td>\n",
       "      <td>Yes</td>\n",
       "      <td>No</td>\n",
       "      <td>NaN</td>\n",
       "    </tr>\n",
       "    <tr>\n",
       "      <th>1</th>\n",
       "      <td>44</td>\n",
       "      <td>M</td>\n",
       "      <td>United States</td>\n",
       "      <td>IN</td>\n",
       "      <td>NaN</td>\n",
       "      <td>0</td>\n",
       "      <td>No</td>\n",
       "      <td>0</td>\n",
       "      <td>No</td>\n",
       "      <td>Rarely</td>\n",
       "      <td>...</td>\n",
       "      <td>No</td>\n",
       "      <td>No</td>\n",
       "      <td>No</td>\n",
       "      <td>0</td>\n",
       "      <td>No</td>\n",
       "      <td>No</td>\n",
       "      <td>1</td>\n",
       "      <td>Don't know</td>\n",
       "      <td>No</td>\n",
       "      <td>NaN</td>\n",
       "    </tr>\n",
       "    <tr>\n",
       "      <th>2</th>\n",
       "      <td>32</td>\n",
       "      <td>Male</td>\n",
       "      <td>Canada</td>\n",
       "      <td>NaN</td>\n",
       "      <td>NaN</td>\n",
       "      <td>0</td>\n",
       "      <td>No</td>\n",
       "      <td>0</td>\n",
       "      <td>No</td>\n",
       "      <td>Rarely</td>\n",
       "      <td>...</td>\n",
       "      <td>No</td>\n",
       "      <td>Yes</td>\n",
       "      <td>Yes</td>\n",
       "      <td>2</td>\n",
       "      <td>Yes</td>\n",
       "      <td>Yes</td>\n",
       "      <td>0</td>\n",
       "      <td>No</td>\n",
       "      <td>No</td>\n",
       "      <td>NaN</td>\n",
       "    </tr>\n",
       "    <tr>\n",
       "      <th>3</th>\n",
       "      <td>31</td>\n",
       "      <td>Male</td>\n",
       "      <td>United Kingdom</td>\n",
       "      <td>NaN</td>\n",
       "      <td>NaN</td>\n",
       "      <td>1</td>\n",
       "      <td>Yes</td>\n",
       "      <td>1</td>\n",
       "      <td>Yes</td>\n",
       "      <td>Often</td>\n",
       "      <td>...</td>\n",
       "      <td>Yes</td>\n",
       "      <td>Some of them</td>\n",
       "      <td>No</td>\n",
       "      <td>1</td>\n",
       "      <td>Maybe</td>\n",
       "      <td>Maybe</td>\n",
       "      <td>0</td>\n",
       "      <td>No</td>\n",
       "      <td>Yes</td>\n",
       "      <td>NaN</td>\n",
       "    </tr>\n",
       "    <tr>\n",
       "      <th>4</th>\n",
       "      <td>31</td>\n",
       "      <td>Male</td>\n",
       "      <td>United States</td>\n",
       "      <td>TX</td>\n",
       "      <td>NaN</td>\n",
       "      <td>0</td>\n",
       "      <td>No</td>\n",
       "      <td>0</td>\n",
       "      <td>No</td>\n",
       "      <td>Never</td>\n",
       "      <td>...</td>\n",
       "      <td>No</td>\n",
       "      <td>Some of them</td>\n",
       "      <td>Yes</td>\n",
       "      <td>2</td>\n",
       "      <td>Yes</td>\n",
       "      <td>Yes</td>\n",
       "      <td>1</td>\n",
       "      <td>Don't know</td>\n",
       "      <td>No</td>\n",
       "      <td>NaN</td>\n",
       "    </tr>\n",
       "  </tbody>\n",
       "</table>\n",
       "<p>5 rows × 31 columns</p>\n",
       "</div>"
      ],
      "text/plain": [
       "   Age  Gender         Country state self_employed  Fam_hist family_history  \\\n",
       "0   37  Female   United States    IL           NaN         0             No   \n",
       "1   44       M   United States    IN           NaN         0             No   \n",
       "2   32    Male          Canada   NaN           NaN         0             No   \n",
       "3   31    Male  United Kingdom   NaN           NaN         1            Yes   \n",
       "4   31    Male   United States    TX           NaN         0             No   \n",
       "\n",
       "   treat treatment work_interfere  ... phys_health_consequence     coworkers  \\\n",
       "0      1       Yes          Often  ...                      No  Some of them   \n",
       "1      0        No         Rarely  ...                      No            No   \n",
       "2      0        No         Rarely  ...                      No           Yes   \n",
       "3      1       Yes          Often  ...                     Yes  Some of them   \n",
       "4      0        No          Never  ...                      No  Some of them   \n",
       "\n",
       "  supervisor Mental_h_interview mental_health_interview phys_health_interview  \\\n",
       "0        Yes                  0                      No                 Maybe   \n",
       "1         No                  0                      No                    No   \n",
       "2        Yes                  2                     Yes                   Yes   \n",
       "3         No                  1                   Maybe                 Maybe   \n",
       "4        Yes                  2                     Yes                   Yes   \n",
       "\n",
       "  MentalvsPhysical mental_vs_physical obs_consequence  comments  \n",
       "0                2                Yes              No       NaN  \n",
       "1                1         Don't know              No       NaN  \n",
       "2                0                 No              No       NaN  \n",
       "3                0                 No             Yes       NaN  \n",
       "4                1         Don't know              No       NaN  \n",
       "\n",
       "[5 rows x 31 columns]"
      ]
     },
     "execution_count": 5,
     "metadata": {},
     "output_type": "execute_result"
    }
   ],
   "source": [
    "#we can now confirm the imported data\n",
    "dataframe.head()"
   ]
  },
  {
   "cell_type": "code",
   "execution_count": 6,
   "id": "925db038",
   "metadata": {},
   "outputs": [
    {
     "data": {
      "text/html": [
       "<div>\n",
       "<style scoped>\n",
       "    .dataframe tbody tr th:only-of-type {\n",
       "        vertical-align: middle;\n",
       "    }\n",
       "\n",
       "    .dataframe tbody tr th {\n",
       "        vertical-align: top;\n",
       "    }\n",
       "\n",
       "    .dataframe thead th {\n",
       "        text-align: right;\n",
       "    }\n",
       "</style>\n",
       "<table border=\"1\" class=\"dataframe\">\n",
       "  <thead>\n",
       "    <tr style=\"text-align: right;\">\n",
       "      <th></th>\n",
       "      <th>Age</th>\n",
       "      <th>Gender</th>\n",
       "      <th>Country</th>\n",
       "      <th>state</th>\n",
       "      <th>self_employed</th>\n",
       "      <th>Fam_hist</th>\n",
       "      <th>family_history</th>\n",
       "      <th>treat</th>\n",
       "      <th>treatment</th>\n",
       "      <th>work_interfere</th>\n",
       "      <th>...</th>\n",
       "      <th>phys_health_consequence</th>\n",
       "      <th>coworkers</th>\n",
       "      <th>supervisor</th>\n",
       "      <th>Mental_h_interview</th>\n",
       "      <th>mental_health_interview</th>\n",
       "      <th>phys_health_interview</th>\n",
       "      <th>MentalvsPhysical</th>\n",
       "      <th>mental_vs_physical</th>\n",
       "      <th>obs_consequence</th>\n",
       "      <th>comments</th>\n",
       "    </tr>\n",
       "  </thead>\n",
       "  <tbody>\n",
       "    <tr>\n",
       "      <th>1254</th>\n",
       "      <td>26</td>\n",
       "      <td>male</td>\n",
       "      <td>United Kingdom</td>\n",
       "      <td>NaN</td>\n",
       "      <td>No</td>\n",
       "      <td>0</td>\n",
       "      <td>No</td>\n",
       "      <td>1</td>\n",
       "      <td>Yes</td>\n",
       "      <td>NaN</td>\n",
       "      <td>...</td>\n",
       "      <td>No</td>\n",
       "      <td>Some of them</td>\n",
       "      <td>Some of them</td>\n",
       "      <td>0</td>\n",
       "      <td>No</td>\n",
       "      <td>No</td>\n",
       "      <td>1</td>\n",
       "      <td>Don't know</td>\n",
       "      <td>No</td>\n",
       "      <td>NaN</td>\n",
       "    </tr>\n",
       "    <tr>\n",
       "      <th>1255</th>\n",
       "      <td>32</td>\n",
       "      <td>Male</td>\n",
       "      <td>United States</td>\n",
       "      <td>IL</td>\n",
       "      <td>No</td>\n",
       "      <td>1</td>\n",
       "      <td>Yes</td>\n",
       "      <td>1</td>\n",
       "      <td>Yes</td>\n",
       "      <td>Often</td>\n",
       "      <td>...</td>\n",
       "      <td>No</td>\n",
       "      <td>Some of them</td>\n",
       "      <td>Yes</td>\n",
       "      <td>0</td>\n",
       "      <td>No</td>\n",
       "      <td>No</td>\n",
       "      <td>2</td>\n",
       "      <td>Yes</td>\n",
       "      <td>No</td>\n",
       "      <td>NaN</td>\n",
       "    </tr>\n",
       "    <tr>\n",
       "      <th>1256</th>\n",
       "      <td>34</td>\n",
       "      <td>male</td>\n",
       "      <td>United States</td>\n",
       "      <td>CA</td>\n",
       "      <td>No</td>\n",
       "      <td>1</td>\n",
       "      <td>Yes</td>\n",
       "      <td>1</td>\n",
       "      <td>Yes</td>\n",
       "      <td>Sometimes</td>\n",
       "      <td>...</td>\n",
       "      <td>Yes</td>\n",
       "      <td>No</td>\n",
       "      <td>No</td>\n",
       "      <td>0</td>\n",
       "      <td>No</td>\n",
       "      <td>No</td>\n",
       "      <td>0</td>\n",
       "      <td>No</td>\n",
       "      <td>No</td>\n",
       "      <td>NaN</td>\n",
       "    </tr>\n",
       "    <tr>\n",
       "      <th>1257</th>\n",
       "      <td>46</td>\n",
       "      <td>f</td>\n",
       "      <td>United States</td>\n",
       "      <td>NC</td>\n",
       "      <td>No</td>\n",
       "      <td>0</td>\n",
       "      <td>No</td>\n",
       "      <td>0</td>\n",
       "      <td>No</td>\n",
       "      <td>NaN</td>\n",
       "      <td>...</td>\n",
       "      <td>No</td>\n",
       "      <td>No</td>\n",
       "      <td>No</td>\n",
       "      <td>0</td>\n",
       "      <td>No</td>\n",
       "      <td>No</td>\n",
       "      <td>0</td>\n",
       "      <td>No</td>\n",
       "      <td>No</td>\n",
       "      <td>NaN</td>\n",
       "    </tr>\n",
       "    <tr>\n",
       "      <th>1258</th>\n",
       "      <td>25</td>\n",
       "      <td>Male</td>\n",
       "      <td>United States</td>\n",
       "      <td>IL</td>\n",
       "      <td>No</td>\n",
       "      <td>1</td>\n",
       "      <td>Yes</td>\n",
       "      <td>1</td>\n",
       "      <td>Yes</td>\n",
       "      <td>Sometimes</td>\n",
       "      <td>...</td>\n",
       "      <td>No</td>\n",
       "      <td>Some of them</td>\n",
       "      <td>No</td>\n",
       "      <td>0</td>\n",
       "      <td>No</td>\n",
       "      <td>No</td>\n",
       "      <td>1</td>\n",
       "      <td>Don't know</td>\n",
       "      <td>No</td>\n",
       "      <td>NaN</td>\n",
       "    </tr>\n",
       "  </tbody>\n",
       "</table>\n",
       "<p>5 rows × 31 columns</p>\n",
       "</div>"
      ],
      "text/plain": [
       "      Age Gender         Country state self_employed  Fam_hist family_history  \\\n",
       "1254   26   male  United Kingdom   NaN            No         0             No   \n",
       "1255   32   Male   United States    IL            No         1            Yes   \n",
       "1256   34   male   United States    CA            No         1            Yes   \n",
       "1257   46      f   United States    NC            No         0             No   \n",
       "1258   25   Male   United States    IL            No         1            Yes   \n",
       "\n",
       "      treat treatment work_interfere  ... phys_health_consequence  \\\n",
       "1254      1       Yes            NaN  ...                      No   \n",
       "1255      1       Yes          Often  ...                      No   \n",
       "1256      1       Yes      Sometimes  ...                     Yes   \n",
       "1257      0        No            NaN  ...                      No   \n",
       "1258      1       Yes      Sometimes  ...                      No   \n",
       "\n",
       "         coworkers    supervisor Mental_h_interview mental_health_interview  \\\n",
       "1254  Some of them  Some of them                  0                      No   \n",
       "1255  Some of them           Yes                  0                      No   \n",
       "1256            No            No                  0                      No   \n",
       "1257            No            No                  0                      No   \n",
       "1258  Some of them            No                  0                      No   \n",
       "\n",
       "     phys_health_interview MentalvsPhysical mental_vs_physical  \\\n",
       "1254                    No                1         Don't know   \n",
       "1255                    No                2                Yes   \n",
       "1256                    No                0                 No   \n",
       "1257                    No                0                 No   \n",
       "1258                    No                1         Don't know   \n",
       "\n",
       "     obs_consequence  comments  \n",
       "1254              No       NaN  \n",
       "1255              No       NaN  \n",
       "1256              No       NaN  \n",
       "1257              No       NaN  \n",
       "1258              No       NaN  \n",
       "\n",
       "[5 rows x 31 columns]"
      ]
     },
     "execution_count": 6,
     "metadata": {},
     "output_type": "execute_result"
    }
   ],
   "source": [
    "dataframe.tail()"
   ]
  },
  {
   "cell_type": "code",
   "execution_count": 7,
   "id": "3d17b054",
   "metadata": {},
   "outputs": [
    {
     "data": {
      "text/html": [
       "<div>\n",
       "<style scoped>\n",
       "    .dataframe tbody tr th:only-of-type {\n",
       "        vertical-align: middle;\n",
       "    }\n",
       "\n",
       "    .dataframe tbody tr th {\n",
       "        vertical-align: top;\n",
       "    }\n",
       "\n",
       "    .dataframe thead th {\n",
       "        text-align: right;\n",
       "    }\n",
       "</style>\n",
       "<table border=\"1\" class=\"dataframe\">\n",
       "  <thead>\n",
       "    <tr style=\"text-align: right;\">\n",
       "      <th></th>\n",
       "      <th>Age</th>\n",
       "      <th>Fam_hist</th>\n",
       "      <th>treat</th>\n",
       "      <th>Mental_health</th>\n",
       "      <th>Mental_h_interview</th>\n",
       "      <th>MentalvsPhysical</th>\n",
       "    </tr>\n",
       "  </thead>\n",
       "  <tbody>\n",
       "    <tr>\n",
       "      <th>count</th>\n",
       "      <td>1.259000e+03</td>\n",
       "      <td>1259.000000</td>\n",
       "      <td>1259.000000</td>\n",
       "      <td>1259.000000</td>\n",
       "      <td>1259.000000</td>\n",
       "      <td>1259.000000</td>\n",
       "    </tr>\n",
       "    <tr>\n",
       "      <th>mean</th>\n",
       "      <td>7.942815e+07</td>\n",
       "      <td>0.390786</td>\n",
       "      <td>0.505957</td>\n",
       "      <td>0.842732</td>\n",
       "      <td>0.234313</td>\n",
       "      <td>1.002383</td>\n",
       "    </tr>\n",
       "    <tr>\n",
       "      <th>std</th>\n",
       "      <td>2.818299e+09</td>\n",
       "      <td>0.488121</td>\n",
       "      <td>0.500163</td>\n",
       "      <td>0.772573</td>\n",
       "      <td>0.499505</td>\n",
       "      <td>0.736831</td>\n",
       "    </tr>\n",
       "    <tr>\n",
       "      <th>min</th>\n",
       "      <td>-1.726000e+03</td>\n",
       "      <td>0.000000</td>\n",
       "      <td>0.000000</td>\n",
       "      <td>0.000000</td>\n",
       "      <td>0.000000</td>\n",
       "      <td>0.000000</td>\n",
       "    </tr>\n",
       "    <tr>\n",
       "      <th>25%</th>\n",
       "      <td>2.700000e+01</td>\n",
       "      <td>0.000000</td>\n",
       "      <td>0.000000</td>\n",
       "      <td>0.000000</td>\n",
       "      <td>0.000000</td>\n",
       "      <td>0.000000</td>\n",
       "    </tr>\n",
       "    <tr>\n",
       "      <th>50%</th>\n",
       "      <td>3.100000e+01</td>\n",
       "      <td>0.000000</td>\n",
       "      <td>1.000000</td>\n",
       "      <td>1.000000</td>\n",
       "      <td>0.000000</td>\n",
       "      <td>1.000000</td>\n",
       "    </tr>\n",
       "    <tr>\n",
       "      <th>75%</th>\n",
       "      <td>3.600000e+01</td>\n",
       "      <td>1.000000</td>\n",
       "      <td>1.000000</td>\n",
       "      <td>1.000000</td>\n",
       "      <td>0.000000</td>\n",
       "      <td>2.000000</td>\n",
       "    </tr>\n",
       "    <tr>\n",
       "      <th>max</th>\n",
       "      <td>1.000000e+11</td>\n",
       "      <td>1.000000</td>\n",
       "      <td>1.000000</td>\n",
       "      <td>2.000000</td>\n",
       "      <td>2.000000</td>\n",
       "      <td>2.000000</td>\n",
       "    </tr>\n",
       "  </tbody>\n",
       "</table>\n",
       "</div>"
      ],
      "text/plain": [
       "                Age     Fam_hist        treat  Mental_health  \\\n",
       "count  1.259000e+03  1259.000000  1259.000000    1259.000000   \n",
       "mean   7.942815e+07     0.390786     0.505957       0.842732   \n",
       "std    2.818299e+09     0.488121     0.500163       0.772573   \n",
       "min   -1.726000e+03     0.000000     0.000000       0.000000   \n",
       "25%    2.700000e+01     0.000000     0.000000       0.000000   \n",
       "50%    3.100000e+01     0.000000     1.000000       1.000000   \n",
       "75%    3.600000e+01     1.000000     1.000000       1.000000   \n",
       "max    1.000000e+11     1.000000     1.000000       2.000000   \n",
       "\n",
       "       Mental_h_interview  MentalvsPhysical  \n",
       "count         1259.000000       1259.000000  \n",
       "mean             0.234313          1.002383  \n",
       "std              0.499505          0.736831  \n",
       "min              0.000000          0.000000  \n",
       "25%              0.000000          0.000000  \n",
       "50%              0.000000          1.000000  \n",
       "75%              0.000000          2.000000  \n",
       "max              2.000000          2.000000  "
      ]
     },
     "execution_count": 7,
     "metadata": {},
     "output_type": "execute_result"
    }
   ],
   "source": [
    "#the descriptive statisctics for the data\n",
    "dataframe.describe()"
   ]
  },
  {
   "cell_type": "code",
   "execution_count": 8,
   "id": "c6fd0772",
   "metadata": {},
   "outputs": [],
   "source": [
    "#lets make a subset dataset, the columns we will be using\n",
    "age=dataframe['Age']\n",
    "Fam=dataframe['Fam_hist']\n",
    "treat=dataframe['treat']\n",
    "Mental=dataframe['Mental_h_interview']\n",
    "difference=dataframe['MentalvsPhysical']"
   ]
  },
  {
   "cell_type": "code",
   "execution_count": 10,
   "id": "717bafe5",
   "metadata": {},
   "outputs": [],
   "source": [
    "#we can combine this to one dataset\n",
    "the_dataset=age,Fam,treat,Mental,difference"
   ]
  },
  {
   "cell_type": "code",
   "execution_count": 11,
   "id": "943a24e0",
   "metadata": {},
   "outputs": [],
   "source": [
    "#We can import the seaborn to help us in the visualization\n",
    "import seaborn as sns"
   ]
  },
  {
   "cell_type": "code",
   "execution_count": 12,
   "id": "5f3a884c",
   "metadata": {},
   "outputs": [
    {
     "data": {
      "text/plain": [
       "<AxesSubplot:>"
      ]
     },
     "execution_count": 12,
     "metadata": {},
     "output_type": "execute_result"
    },
    {
     "data": {
      "image/png": "[encoded data removed]",
      "text/plain": [
       "<Figure size 432x288 with 2 Axes>"
      ]
     },
     "metadata": {
      "needs_background": "light"
     },
     "output_type": "display_data"
    }
   ],
   "source": [
    "#lets visualize the heatmap for this data\n",
    "sns.heatmap(the_dataset)"
   ]
  },
  {
   "cell_type": "code",
   "execution_count": 13,
   "id": "cf70334f",
   "metadata": {},
   "outputs": [
    {
     "name": "stderr",
     "output_type": "stream",
     "text": [
      "D:\\anaconda\\lib\\site-packages\\seaborn\\distributions.py:2619: FutureWarning: `distplot` is a deprecated function and will be removed in a future version. Please adapt your code to use either `displot` (a figure-level function with similar flexibility) or `histplot` (an axes-level function for histograms).\n",
      "  warnings.warn(msg, FutureWarning)\n"
     ]
    },
    {
     "data": {
      "text/plain": [
       "<AxesSubplot:ylabel='Density'>"
      ]
     },
     "execution_count": 13,
     "metadata": {},
     "output_type": "execute_result"
    },
    {
     "data": {
      "image/png": "[encoded data removed]",
      "text/plain": [
       "<Figure size 432x288 with 1 Axes>"
      ]
     },
     "metadata": {
      "needs_background": "light"
     },
     "output_type": "display_data"
    }
   ],
   "source": [
    "#we can now visualize a histogram\n",
    "sns.distplot(the_dataset, kde=True, color=\"m\")"
   ]
  },
  {
   "cell_type": "code",
   "execution_count": 21,
   "id": "f86555e0",
   "metadata": {},
   "outputs": [
    {
     "data": {
      "text/plain": [
       "<seaborn.axisgrid.FacetGrid at 0x182127b3a30>"
      ]
     },
     "execution_count": 21,
     "metadata": {},
     "output_type": "execute_result"
    },
    {
     "data": {
      "image/png": "[encoded data removed]",
      "text/plain": [
       "<Figure size 360x360 with 1 Axes>"
      ]
     },
     "metadata": {
      "needs_background": "light"
     },
     "output_type": "display_data"
    }
   ],
   "source": [
    "#regression\n",
    "sns.lmplot(x='treat', y='Mental_h_interview', data=dataframe)"
   ]
  },
  {
   "cell_type": "code",
   "execution_count": 23,
   "id": "bd513971",
   "metadata": {},
   "outputs": [
    {
     "name": "stderr",
     "output_type": "stream",
     "text": [
      "D:\\anaconda\\lib\\site-packages\\seaborn\\categorical.py:1296: UserWarning: 57.1% of the points cannot be placed; you may want to decrease the size of the markers or use stripplot.\n",
      "  warnings.warn(msg, UserWarning)\n",
      "D:\\anaconda\\lib\\site-packages\\seaborn\\categorical.py:1296: UserWarning: 77.8% of the points cannot be placed; you may want to decrease the size of the markers or use stripplot.\n",
      "  warnings.warn(msg, UserWarning)\n",
      "D:\\anaconda\\lib\\site-packages\\seaborn\\categorical.py:1296: UserWarning: 66.7% of the points cannot be placed; you may want to decrease the size of the markers or use stripplot.\n",
      "  warnings.warn(msg, UserWarning)\n",
      "D:\\anaconda\\lib\\site-packages\\seaborn\\categorical.py:1296: UserWarning: 87.5% of the points cannot be placed; you may want to decrease the size of the markers or use stripplot.\n",
      "  warnings.warn(msg, UserWarning)\n",
      "D:\\anaconda\\lib\\site-packages\\seaborn\\categorical.py:1296: UserWarning: 90.5% of the points cannot be placed; you may want to decrease the size of the markers or use stripplot.\n",
      "  warnings.warn(msg, UserWarning)\n",
      "D:\\anaconda\\lib\\site-packages\\seaborn\\categorical.py:1296: UserWarning: 94.1% of the points cannot be placed; you may want to decrease the size of the markers or use stripplot.\n",
      "  warnings.warn(msg, UserWarning)\n",
      "D:\\anaconda\\lib\\site-packages\\seaborn\\categorical.py:1296: UserWarning: 93.5% of the points cannot be placed; you may want to decrease the size of the markers or use stripplot.\n",
      "  warnings.warn(msg, UserWarning)\n",
      "D:\\anaconda\\lib\\site-packages\\seaborn\\categorical.py:1296: UserWarning: 95.1% of the points cannot be placed; you may want to decrease the size of the markers or use stripplot.\n",
      "  warnings.warn(msg, UserWarning)\n",
      "D:\\anaconda\\lib\\site-packages\\seaborn\\categorical.py:1296: UserWarning: 96.0% of the points cannot be placed; you may want to decrease the size of the markers or use stripplot.\n",
      "  warnings.warn(msg, UserWarning)\n",
      "D:\\anaconda\\lib\\site-packages\\seaborn\\categorical.py:1296: UserWarning: 95.8% of the points cannot be placed; you may want to decrease the size of the markers or use stripplot.\n",
      "  warnings.warn(msg, UserWarning)\n",
      "D:\\anaconda\\lib\\site-packages\\seaborn\\categorical.py:1296: UserWarning: 95.6% of the points cannot be placed; you may want to decrease the size of the markers or use stripplot.\n",
      "  warnings.warn(msg, UserWarning)\n",
      "D:\\anaconda\\lib\\site-packages\\seaborn\\categorical.py:1296: UserWarning: 96.5% of the points cannot be placed; you may want to decrease the size of the markers or use stripplot.\n",
      "  warnings.warn(msg, UserWarning)\n",
      "D:\\anaconda\\lib\\site-packages\\seaborn\\categorical.py:1296: UserWarning: 96.8% of the points cannot be placed; you may want to decrease the size of the markers or use stripplot.\n",
      "  warnings.warn(msg, UserWarning)\n",
      "D:\\anaconda\\lib\\site-packages\\seaborn\\categorical.py:1296: UserWarning: 95.5% of the points cannot be placed; you may want to decrease the size of the markers or use stripplot.\n",
      "  warnings.warn(msg, UserWarning)\n",
      "D:\\anaconda\\lib\\site-packages\\seaborn\\categorical.py:1296: UserWarning: 96.3% of the points cannot be placed; you may want to decrease the size of the markers or use stripplot.\n",
      "  warnings.warn(msg, UserWarning)\n",
      "D:\\anaconda\\lib\\site-packages\\seaborn\\categorical.py:1296: UserWarning: 95.7% of the points cannot be placed; you may want to decrease the size of the markers or use stripplot.\n",
      "  warnings.warn(msg, UserWarning)\n",
      "D:\\anaconda\\lib\\site-packages\\seaborn\\categorical.py:1296: UserWarning: 96.9% of the points cannot be placed; you may want to decrease the size of the markers or use stripplot.\n",
      "  warnings.warn(msg, UserWarning)\n",
      "D:\\anaconda\\lib\\site-packages\\seaborn\\categorical.py:1296: UserWarning: 96.4% of the points cannot be placed; you may want to decrease the size of the markers or use stripplot.\n",
      "  warnings.warn(msg, UserWarning)\n",
      "D:\\anaconda\\lib\\site-packages\\seaborn\\categorical.py:1296: UserWarning: 91.9% of the points cannot be placed; you may want to decrease the size of the markers or use stripplot.\n",
      "  warnings.warn(msg, UserWarning)\n",
      "D:\\anaconda\\lib\\site-packages\\seaborn\\categorical.py:1296: UserWarning: 95.3% of the points cannot be placed; you may want to decrease the size of the markers or use stripplot.\n",
      "  warnings.warn(msg, UserWarning)\n",
      "D:\\anaconda\\lib\\site-packages\\seaborn\\categorical.py:1296: UserWarning: 92.3% of the points cannot be placed; you may want to decrease the size of the markers or use stripplot.\n",
      "  warnings.warn(msg, UserWarning)\n",
      "D:\\anaconda\\lib\\site-packages\\seaborn\\categorical.py:1296: UserWarning: 93.9% of the points cannot be placed; you may want to decrease the size of the markers or use stripplot.\n",
      "  warnings.warn(msg, UserWarning)\n",
      "D:\\anaconda\\lib\\site-packages\\seaborn\\categorical.py:1296: UserWarning: 90.9% of the points cannot be placed; you may want to decrease the size of the markers or use stripplot.\n",
      "  warnings.warn(msg, UserWarning)\n",
      "D:\\anaconda\\lib\\site-packages\\seaborn\\categorical.py:1296: UserWarning: 85.7% of the points cannot be placed; you may want to decrease the size of the markers or use stripplot.\n",
      "  warnings.warn(msg, UserWarning)\n",
      "D:\\anaconda\\lib\\site-packages\\seaborn\\categorical.py:1296: UserWarning: 90.0% of the points cannot be placed; you may want to decrease the size of the markers or use stripplot.\n",
      "  warnings.warn(msg, UserWarning)\n",
      "D:\\anaconda\\lib\\site-packages\\seaborn\\categorical.py:1296: UserWarning: 89.3% of the points cannot be placed; you may want to decrease the size of the markers or use stripplot.\n",
      "  warnings.warn(msg, UserWarning)\n",
      "D:\\anaconda\\lib\\site-packages\\seaborn\\categorical.py:1296: UserWarning: 83.3% of the points cannot be placed; you may want to decrease the size of the markers or use stripplot.\n",
      "  warnings.warn(msg, UserWarning)\n",
      "D:\\anaconda\\lib\\site-packages\\seaborn\\categorical.py:1296: UserWarning: 75.0% of the points cannot be placed; you may want to decrease the size of the markers or use stripplot.\n",
      "  warnings.warn(msg, UserWarning)\n",
      "D:\\anaconda\\lib\\site-packages\\seaborn\\categorical.py:1296: UserWarning: 50.0% of the points cannot be placed; you may want to decrease the size of the markers or use stripplot.\n",
      "  warnings.warn(msg, UserWarning)\n",
      "D:\\anaconda\\lib\\site-packages\\seaborn\\categorical.py:1296: UserWarning: 60.0% of the points cannot be placed; you may want to decrease the size of the markers or use stripplot.\n",
      "  warnings.warn(msg, UserWarning)\n"
     ]
    },
    {
     "data": {
      "image/png": "[encoded data removed]",
      "text/plain": [
       "<Figure size 432x288 with 1 Axes>"
      ]
     },
     "metadata": {},
     "output_type": "display_data"
    }
   ],
   "source": [
    "#the swarm plot\n",
    "# use to set style of background of plot\n",
    "sns.set(style=\"whitegrid\")\n",
    "# plotting strip plot with seaborn\n",
    "# deciding the attributes of dataset on\n",
    "# which plot should be made\n",
    "ax = sns.swarmplot(x='Age', y='Mental_h_interview', data=dataframe)\n",
    "\n",
    "# giving title to the plot\n",
    "plt.title('Graph of age against mental health for the interview data')\n",
    "  \n",
    "# function to show plot\n",
    "plt.show()"
   ]
  },
  {
   "cell_type": "code",
   "execution_count": 24,
   "id": "72100815",
   "metadata": {},
   "outputs": [
    {
     "data": {
      "text/plain": [
       "<AxesSubplot:xlabel='MentalvsPhysical', ylabel='Fam_hist'>"
      ]
     },
     "execution_count": 24,
     "metadata": {},
     "output_type": "execute_result"
    },
    {
     "data": {
      "image/png": "[encoded data removed]",
      "text/plain": [
       "<Figure size 432x288 with 1 Axes>"
      ]
     },
     "metadata": {},
     "output_type": "display_data"
    }
   ],
   "source": [
    "#we can now print a barplot\n",
    "# change the estimator from mean to\n",
    "# standard deviation \n",
    "sns.barplot(x ='MentalvsPhysical', y ='Fam_hist', data = dataframe,  \n",
    "            palette ='plasma')"
   ]
  },
  {
   "cell_type": "code",
   "execution_count": 25,
   "id": "7deb3bc8",
   "metadata": {},
   "outputs": [
    {
     "data": {
      "text/plain": [
       "<AxesSubplot:xlabel='Age', ylabel='count'>"
      ]
     },
     "execution_count": 25,
     "metadata": {},
     "output_type": "execute_result"
    },
    {
     "data": {
      "image/png": "[encoded data removed]",
      "text/plain": [
       "<Figure size 432x288 with 1 Axes>"
      ]
     },
     "metadata": {},
     "output_type": "display_data"
    }
   ],
   "source": [
    "#the countplot for our subset data\n",
    "sns.countplot(x ='Age', data = dataframe) "
   ]
  },
  {
   "cell_type": "code",
   "execution_count": 26,
   "id": "9cffa6ef",
   "metadata": {},
   "outputs": [
    {
     "data": {
      "text/plain": [
       "<AxesSubplot:xlabel='treat', ylabel='count'>"
      ]
     },
     "execution_count": 26,
     "metadata": {},
     "output_type": "execute_result"
    },
    {
     "data": {
      "image/png": "[encoded data removed]",
      "text/plain": [
       "<Figure size 432x288 with 1 Axes>"
      ]
     },
     "metadata": {},
     "output_type": "display_data"
    }
   ],
   "source": [
    "sns.countplot(x ='treat', data = dataframe)"
   ]
  },
  {
   "cell_type": "code",
   "execution_count": 27,
   "id": "90f7733e",
   "metadata": {},
   "outputs": [
    {
     "data": {
      "text/plain": [
       "<AxesSubplot:xlabel='Mental_h_interview', ylabel='count'>"
      ]
     },
     "execution_count": 27,
     "metadata": {},
     "output_type": "execute_result"
    },
    {
     "data": {
      "image/png": "[encoded data removed]",
      "text/plain": [
       "<Figure size 432x288 with 1 Axes>"
      ]
     },
     "metadata": {},
     "output_type": "display_data"
    }
   ],
   "source": [
    "sns.countplot(x ='Mental_h_interview', data = dataframe) "
   ]
  },
  {
   "cell_type": "code",
   "execution_count": 29,
   "id": "269a0ae1",
   "metadata": {},
   "outputs": [
    {
     "data": {
      "text/plain": [
       "<AxesSubplot:xlabel='MentalvsPhysical', ylabel='count'>"
      ]
     },
     "execution_count": 29,
     "metadata": {},
     "output_type": "execute_result"
    },
    {
     "data": {
      "image/png": "[encoded data removed]",
      "text/plain": [
       "<Figure size 432x288 with 1 Axes>"
      ]
     },
     "metadata": {},
     "output_type": "display_data"
    }
   ],
   "source": [
    "#mental versus physical\n",
    "sns.countplot(x='MentalvsPhysical', data=dataframe)"
   ]
  },
  {
   "cell_type": "code",
   "execution_count": null,
   "id": "6239df61",
   "metadata": {},
   "outputs": [],
   "source": []
  }
 ],
 "metadata": {
  "kernelspec": {
   "display_name": "Python 3 (ipykernel)",
   "language": "python",
   "name": "python3"
  },
  "language_info": {
   "codemirror_mode": {
    "name": "ipython",
    "version": 3
   },
   "file_extension": ".py",
   "mimetype": "text/x-python",
   "name": "python",
   "nbconvert_exporter": "python",
   "pygments_lexer": "ipython3",
   "version": "3.9.12"
  }
 },
 "nbformat": 4,
 "nbformat_minor": 5
}
